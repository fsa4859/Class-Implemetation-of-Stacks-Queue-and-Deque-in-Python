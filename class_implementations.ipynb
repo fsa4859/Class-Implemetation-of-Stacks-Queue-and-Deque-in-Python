{
  "nbformat": 4,
  "nbformat_minor": 0,
  "metadata": {
    "colab": {
      "name": "Untitled6.ipynb",
      "provenance": []
    },
    "kernelspec": {
      "name": "python3",
      "display_name": "Python 3"
    },
    "language_info": {
      "name": "python"
    }
  },
  "cells": [
    {
      "cell_type": "markdown",
      "source": [
        "First Exercise: Implementation of stack class\n",
        "The important thing to remember is that last in first out\n",
        "\n",
        "This is the model answer"
      ],
      "metadata": {
        "id": "KhfToAS6-Wrl"
      }
    },
    {
      "cell_type": "code",
      "source": [
        "class Stack(object):\n",
        "\n",
        "  def __init__(self):\n",
        "    \"\"\"\n",
        "    creates an empty list\n",
        "    \"\"\"\n",
        "    self.items=[]\n",
        "\n",
        "  def isEmpty(self):\n",
        "    \"\"\"\n",
        "    Returns true if stack is empty\n",
        "    \"\"\"\n",
        "    return self.items==[]\n",
        "\n",
        "  def PushItem(self,item):\n",
        "    self.items.append(item)\n",
        "\n",
        "  def PopItem(self):\n",
        "    return self.items.pop()\n",
        "\n",
        "  def PeekItem(self):\n",
        "    return self.items[len(self.items)-1]\n",
        "\n",
        "  def size(self):\n",
        "    return len(self.items)"
      ],
      "metadata": {
        "id": "stLBTEGk-bxE"
      },
      "execution_count": 18,
      "outputs": []
    },
    {
      "cell_type": "code",
      "source": [
        "# create a stack object\n",
        "s=Stack()"
      ],
      "metadata": {
        "id": "2caNhcBK_1dU"
      },
      "execution_count": 19,
      "outputs": []
    },
    {
      "cell_type": "code",
      "source": [
        "s.isEmpty(),s.size()"
      ],
      "metadata": {
        "colab": {
          "base_uri": "https://localhost:8080/"
        },
        "id": "3_48j22RACHp",
        "outputId": "c60d91d2-8447-47be-e773-818977d591fe"
      },
      "execution_count": 20,
      "outputs": [
        {
          "output_type": "execute_result",
          "data": {
            "text/plain": [
              "(True, 0)"
            ]
          },
          "metadata": {},
          "execution_count": 20
        }
      ]
    },
    {
      "cell_type": "code",
      "source": [
        "# now pushing element\n",
        "s.PushItem(1)"
      ],
      "metadata": {
        "id": "eOecv0YLADc9"
      },
      "execution_count": 21,
      "outputs": []
    },
    {
      "cell_type": "code",
      "source": [
        "s.isEmpty(),s.size()"
      ],
      "metadata": {
        "colab": {
          "base_uri": "https://localhost:8080/"
        },
        "id": "SkW1I07-AJcB",
        "outputId": "3bff06ab-1db4-4fb7-e5da-647f0f559290"
      },
      "execution_count": 22,
      "outputs": [
        {
          "output_type": "execute_result",
          "data": {
            "text/plain": [
              "(False, 1)"
            ]
          },
          "metadata": {},
          "execution_count": 22
        }
      ]
    },
    {
      "cell_type": "code",
      "source": [
        "# pushing another item\n",
        "s.PushItem(2)"
      ],
      "metadata": {
        "id": "6G4mmtb2ANuZ"
      },
      "execution_count": 23,
      "outputs": []
    },
    {
      "cell_type": "code",
      "source": [
        "s.isEmpty(),s.size()"
      ],
      "metadata": {
        "colab": {
          "base_uri": "https://localhost:8080/"
        },
        "id": "_kDI0_vjASah",
        "outputId": "420aa1c3-2158-4626-dd61-847d89b23225"
      },
      "execution_count": 24,
      "outputs": [
        {
          "output_type": "execute_result",
          "data": {
            "text/plain": [
              "(False, 2)"
            ]
          },
          "metadata": {},
          "execution_count": 24
        }
      ]
    },
    {
      "cell_type": "code",
      "source": [
        "# now calling remove item should remove the last one in (2)\n",
        "s.PopItem()"
      ],
      "metadata": {
        "colab": {
          "base_uri": "https://localhost:8080/"
        },
        "id": "54-1giAFAWb-",
        "outputId": "e4f5307c-2b8f-4c4b-d28e-62f3a4689db3"
      },
      "execution_count": 25,
      "outputs": [
        {
          "output_type": "execute_result",
          "data": {
            "text/plain": [
              "2"
            ]
          },
          "metadata": {},
          "execution_count": 25
        }
      ]
    },
    {
      "cell_type": "code",
      "source": [
        "# now adding another element\n",
        "s.PushItem(3)"
      ],
      "metadata": {
        "id": "SbntvHs7AfJj"
      },
      "execution_count": 26,
      "outputs": []
    },
    {
      "cell_type": "code",
      "source": [
        "s.size()"
      ],
      "metadata": {
        "colab": {
          "base_uri": "https://localhost:8080/"
        },
        "id": "7hoa9btVAkVS",
        "outputId": "0dcaed58-a5c0-41cc-b6c8-63cf7701884a"
      },
      "execution_count": 27,
      "outputs": [
        {
          "output_type": "execute_result",
          "data": {
            "text/plain": [
              "2"
            ]
          },
          "metadata": {},
          "execution_count": 27
        }
      ]
    },
    {
      "cell_type": "code",
      "source": [
        "# now calling the peek method should return 3\n",
        "s.PeekItem()"
      ],
      "metadata": {
        "colab": {
          "base_uri": "https://localhost:8080/"
        },
        "id": "xkd5A6DNAlRI",
        "outputId": "d94061a2-74af-440d-9aa4-aefae608ee49"
      },
      "execution_count": 28,
      "outputs": [
        {
          "output_type": "execute_result",
          "data": {
            "text/plain": [
              "3"
            ]
          },
          "metadata": {},
          "execution_count": 28
        }
      ]
    },
    {
      "cell_type": "markdown",
      "source": [
        "Now create another class for the implementation of Queue\n",
        "\n",
        "The major difference between the stack and queue is that queue follows the idea\n",
        "of first in first out\n",
        "\n",
        "This is the model solution"
      ],
      "metadata": {
        "id": "GLzp6kulArBS"
      }
    },
    {
      "cell_type": "code",
      "source": [
        "class Queue(object):\n",
        "\n",
        "  def __init__(self):\n",
        "    \"\"\"\n",
        "    creates an empty list\n",
        "    \"\"\"\n",
        "    self.items=[]\n",
        "\n",
        "  def isEmpty(self):\n",
        "    \"\"\"\n",
        "    returns true if the queue is empty\n",
        "    \"\"\"\n",
        "    return self.items==[]\n",
        "\n",
        "  def Enqeue(self,item):\n",
        "    \"\"\"\n",
        "    inserts the new items at index 0\n",
        "    \"\"\"\n",
        "    self.items.insert(0,item)\n",
        "\n",
        "  def Deqeue(self):\n",
        "    \"\"\"\n",
        "    removes the last element (first in first out)\n",
        "    \"\"\"\n",
        "    return self.items.pop()\n",
        "\n",
        "  def size(self):\n",
        "\n",
        "    return len(self.items) \n"
      ],
      "metadata": {
        "id": "9rWUhTOEBwCG"
      },
      "execution_count": 29,
      "outputs": []
    },
    {
      "cell_type": "code",
      "source": [
        "# now let's create an object\n",
        "q= Queue()"
      ],
      "metadata": {
        "id": "5ytoK2UhDoTt"
      },
      "execution_count": 30,
      "outputs": []
    },
    {
      "cell_type": "code",
      "source": [
        "q"
      ],
      "metadata": {
        "colab": {
          "base_uri": "https://localhost:8080/"
        },
        "id": "7kwDdQCJDvuz",
        "outputId": "f50afd3e-8331-43c3-b557-c5ceea1eda9c"
      },
      "execution_count": 31,
      "outputs": [
        {
          "output_type": "execute_result",
          "data": {
            "text/plain": [
              "<__main__.Queue at 0x7fa7bade7550>"
            ]
          },
          "metadata": {},
          "execution_count": 31
        }
      ]
    },
    {
      "cell_type": "code",
      "source": [
        "q.isEmpty(),q.size()"
      ],
      "metadata": {
        "colab": {
          "base_uri": "https://localhost:8080/"
        },
        "id": "KlXcFeddDxCu",
        "outputId": "90d1d59b-7379-49c9-e269-305af6d8b7ff"
      },
      "execution_count": 32,
      "outputs": [
        {
          "output_type": "execute_result",
          "data": {
            "text/plain": [
              "(True, 0)"
            ]
          },
          "metadata": {},
          "execution_count": 32
        }
      ]
    },
    {
      "cell_type": "code",
      "source": [
        "# now let's add items\n",
        "q.Enqeue(1)"
      ],
      "metadata": {
        "id": "Fkr5I2mXDytq"
      },
      "execution_count": 33,
      "outputs": []
    },
    {
      "cell_type": "code",
      "source": [
        "q.isEmpty(),q.size()"
      ],
      "metadata": {
        "colab": {
          "base_uri": "https://localhost:8080/"
        },
        "id": "xGc1p4MLD-xi",
        "outputId": "cff9ac86-3ab1-45d6-b7e0-e1b04181172c"
      },
      "execution_count": 34,
      "outputs": [
        {
          "output_type": "execute_result",
          "data": {
            "text/plain": [
              "(False, 1)"
            ]
          },
          "metadata": {},
          "execution_count": 34
        }
      ]
    },
    {
      "cell_type": "code",
      "source": [
        "# add another element\n",
        "q.Enqeue(2)"
      ],
      "metadata": {
        "id": "B5KA1q7nEBL6"
      },
      "execution_count": 35,
      "outputs": []
    },
    {
      "cell_type": "code",
      "source": [
        "q.isEmpty(),q.size()"
      ],
      "metadata": {
        "colab": {
          "base_uri": "https://localhost:8080/"
        },
        "id": "ShFegHSUEFps",
        "outputId": "4d41cbaf-c5bd-40a1-84b7-6d4518899369"
      },
      "execution_count": 36,
      "outputs": [
        {
          "output_type": "execute_result",
          "data": {
            "text/plain": [
              "(False, 2)"
            ]
          },
          "metadata": {},
          "execution_count": 36
        }
      ]
    },
    {
      "cell_type": "code",
      "source": [
        "# now removing method should remove first element in (1)\n",
        "q.Deqeue()"
      ],
      "metadata": {
        "colab": {
          "base_uri": "https://localhost:8080/"
        },
        "id": "Y8s0PukSEIIK",
        "outputId": "08519a56-8b47-452e-b759-3c4180d56ce8"
      },
      "execution_count": 37,
      "outputs": [
        {
          "output_type": "execute_result",
          "data": {
            "text/plain": [
              "1"
            ]
          },
          "metadata": {},
          "execution_count": 37
        }
      ]
    },
    {
      "cell_type": "markdown",
      "source": [
        "Next, we will implement Deque which doesn't follow restrictions imposed by stacks and queues"
      ],
      "metadata": {
        "id": "sNTleDwJEOSj"
      }
    },
    {
      "cell_type": "code",
      "source": [
        "class Deque(object):\n",
        "  def __init__(self):\n",
        "    \"\"\"\n",
        "    creates an empty list\n",
        "    \"\"\"\n",
        "    self.items=[]\n",
        "\n",
        "  def isEmpty(self):\n",
        "    \"\"\"\n",
        "    returns true if the deque is empty\n",
        "    \"\"\"\n",
        "    return self.items==[]\n",
        "\n",
        "  def AddFront(self,item):\n",
        "    \"\"\"\n",
        "    Front means towards the end\n",
        "    \"\"\"\n",
        "    self.items.append(item)\n",
        "\n",
        "  def AddRear(self,item):\n",
        "    \"\"\"\n",
        "    Rear means towards the start\n",
        "    \"\"\"\n",
        "    self.items.insert(0,item)\n",
        "\n",
        "  def RemoveFront(self):\n",
        "    \"\"\"\n",
        "    removes from end\n",
        "    \"\"\"\n",
        "    return self.items.pop()\n",
        "\n",
        "  def RemoveRear(self):\n",
        "    \"\"\"\n",
        "    removes from the start\n",
        "    \"\"\"\n",
        "    return self.items.pop(0)\n",
        "\n",
        "  def size(self):\n",
        "    return len(self.items)\n"
      ],
      "metadata": {
        "id": "HZ_vyqKjFIzC"
      },
      "execution_count": 41,
      "outputs": []
    },
    {
      "cell_type": "code",
      "source": [
        "# now let's create an object\n",
        "d=Deque()"
      ],
      "metadata": {
        "id": "XKSevmNgGX-u"
      },
      "execution_count": 42,
      "outputs": []
    },
    {
      "cell_type": "code",
      "source": [
        "d.isEmpty(),d.size()"
      ],
      "metadata": {
        "colab": {
          "base_uri": "https://localhost:8080/"
        },
        "id": "f1CD3GmOG2qq",
        "outputId": "1ed07c95-2c9a-45b8-bf2b-2dbe5ec00a96"
      },
      "execution_count": 43,
      "outputs": [
        {
          "output_type": "execute_result",
          "data": {
            "text/plain": [
              "(True, 0)"
            ]
          },
          "metadata": {},
          "execution_count": 43
        }
      ]
    },
    {
      "cell_type": "code",
      "source": [
        "# now add elements to the front (end)\n",
        "d.AddFront(1)"
      ],
      "metadata": {
        "id": "ybJbtN7mG5Hi"
      },
      "execution_count": 44,
      "outputs": []
    },
    {
      "cell_type": "code",
      "source": [
        "d.AddFront(2)"
      ],
      "metadata": {
        "id": "zom85BPsHBe1"
      },
      "execution_count": 45,
      "outputs": []
    },
    {
      "cell_type": "code",
      "source": [
        "d.size()"
      ],
      "metadata": {
        "colab": {
          "base_uri": "https://localhost:8080/"
        },
        "id": "cOiaZs2bHDte",
        "outputId": "0b9c01dc-4198-4150-c473-1087d2bdf678"
      },
      "execution_count": 46,
      "outputs": [
        {
          "output_type": "execute_result",
          "data": {
            "text/plain": [
              "2"
            ]
          },
          "metadata": {},
          "execution_count": 46
        }
      ]
    },
    {
      "cell_type": "code",
      "source": [
        "d.AddFront(3)"
      ],
      "metadata": {
        "id": "iTgtOsRfHErX"
      },
      "execution_count": 47,
      "outputs": []
    },
    {
      "cell_type": "code",
      "source": [
        "# now remove elements from front (end of list). This should remove 3\n",
        "d.RemoveFront()"
      ],
      "metadata": {
        "colab": {
          "base_uri": "https://localhost:8080/"
        },
        "id": "5mIkXF8XHHR6",
        "outputId": "3c2f5d6a-e3bd-4428-89bc-9c1858800de8"
      },
      "execution_count": 48,
      "outputs": [
        {
          "output_type": "execute_result",
          "data": {
            "text/plain": [
              "3"
            ]
          },
          "metadata": {},
          "execution_count": 48
        }
      ]
    },
    {
      "cell_type": "code",
      "source": [
        "# now if we call remove rear, we will remove 1\n",
        "d.RemoveRear()"
      ],
      "metadata": {
        "colab": {
          "base_uri": "https://localhost:8080/"
        },
        "id": "woJmDbMkHimO",
        "outputId": "6866ebd6-cd1c-49c3-bc7a-b6f71a78fc50"
      },
      "execution_count": 49,
      "outputs": [
        {
          "output_type": "execute_result",
          "data": {
            "text/plain": [
              "1"
            ]
          },
          "metadata": {},
          "execution_count": 49
        }
      ]
    },
    {
      "cell_type": "code",
      "source": [
        ""
      ],
      "metadata": {
        "id": "dZ6qV4wVHnYj"
      },
      "execution_count": null,
      "outputs": []
    }
  ]
}